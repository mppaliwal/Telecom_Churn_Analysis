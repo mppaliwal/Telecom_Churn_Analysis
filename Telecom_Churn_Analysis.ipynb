{
 "cells": [
  {
   "cell_type": "code",
   "execution_count": 109,
   "id": "776b78dd",
   "metadata": {},
   "outputs": [],
   "source": [
    "import numpy as np\n",
    "import pandas as pd\n",
    "import matplotlib.pyplot as plt\n",
    "import seaborn as sns"
   ]
  },
  {
   "cell_type": "markdown",
   "id": "64f02136",
   "metadata": {},
   "source": [
    "## Get the data"
   ]
  },
  {
   "cell_type": "code",
   "execution_count": 110,
   "id": "8cc7c450",
   "metadata": {},
   "outputs": [],
   "source": [
    "train=pd.read_csv('train_data.csv')"
   ]
  },
  {
   "cell_type": "code",
   "execution_count": 111,
   "id": "460df855",
   "metadata": {},
   "outputs": [
    {
     "data": {
      "text/html": [
       "<div>\n",
       "<style scoped>\n",
       "    .dataframe tbody tr th:only-of-type {\n",
       "        vertical-align: middle;\n",
       "    }\n",
       "\n",
       "    .dataframe tbody tr th {\n",
       "        vertical-align: top;\n",
       "    }\n",
       "\n",
       "    .dataframe thead th {\n",
       "        text-align: right;\n",
       "    }\n",
       "</style>\n",
       "<table border=\"1\" class=\"dataframe\">\n",
       "  <thead>\n",
       "    <tr style=\"text-align: right;\">\n",
       "      <th></th>\n",
       "      <th>CustomerID</th>\n",
       "      <th>Surname</th>\n",
       "      <th>NetworkScore</th>\n",
       "      <th>Region</th>\n",
       "      <th>Gender</th>\n",
       "      <th>Age</th>\n",
       "      <th>Tenure</th>\n",
       "      <th>MonthlyCharge</th>\n",
       "      <th>NumOfProducts</th>\n",
       "      <th>HasInternetService</th>\n",
       "      <th>IsActiveMember</th>\n",
       "      <th>EstimatedMonthlyUsage</th>\n",
       "      <th>Exited</th>\n",
       "    </tr>\n",
       "  </thead>\n",
       "  <tbody>\n",
       "    <tr>\n",
       "      <th>0</th>\n",
       "      <td>4971</td>\n",
       "      <td>Moreno</td>\n",
       "      <td>25.0</td>\n",
       "      <td>South</td>\n",
       "      <td>Female</td>\n",
       "      <td>26.0</td>\n",
       "      <td>11</td>\n",
       "      <td>134.20</td>\n",
       "      <td>1</td>\n",
       "      <td>0</td>\n",
       "      <td>1.0</td>\n",
       "      <td>NaN</td>\n",
       "      <td>1</td>\n",
       "    </tr>\n",
       "    <tr>\n",
       "      <th>1</th>\n",
       "      <td>2858</td>\n",
       "      <td>Bell</td>\n",
       "      <td>68.0</td>\n",
       "      <td>North</td>\n",
       "      <td>Female</td>\n",
       "      <td>60.0</td>\n",
       "      <td>17</td>\n",
       "      <td>25.72</td>\n",
       "      <td>3</td>\n",
       "      <td>1</td>\n",
       "      <td>1.0</td>\n",
       "      <td>533.40</td>\n",
       "      <td>0</td>\n",
       "    </tr>\n",
       "    <tr>\n",
       "      <th>2</th>\n",
       "      <td>5794</td>\n",
       "      <td>Baker</td>\n",
       "      <td>34.0</td>\n",
       "      <td>North</td>\n",
       "      <td>Male</td>\n",
       "      <td>28.0</td>\n",
       "      <td>7</td>\n",
       "      <td>131.03</td>\n",
       "      <td>2</td>\n",
       "      <td>0</td>\n",
       "      <td>0.0</td>\n",
       "      <td>509.04</td>\n",
       "      <td>0</td>\n",
       "    </tr>\n",
       "    <tr>\n",
       "      <th>3</th>\n",
       "      <td>3996</td>\n",
       "      <td>Jackson</td>\n",
       "      <td>13.0</td>\n",
       "      <td>South</td>\n",
       "      <td>Male</td>\n",
       "      <td>65.0</td>\n",
       "      <td>2</td>\n",
       "      <td>64.27</td>\n",
       "      <td>3</td>\n",
       "      <td>0</td>\n",
       "      <td>1.0</td>\n",
       "      <td>246.48</td>\n",
       "      <td>0</td>\n",
       "    </tr>\n",
       "    <tr>\n",
       "      <th>4</th>\n",
       "      <td>2680</td>\n",
       "      <td>Craig</td>\n",
       "      <td>50.0</td>\n",
       "      <td>East</td>\n",
       "      <td>Female</td>\n",
       "      <td>60.0</td>\n",
       "      <td>16</td>\n",
       "      <td>41.26</td>\n",
       "      <td>3</td>\n",
       "      <td>1</td>\n",
       "      <td>1.0</td>\n",
       "      <td>902.28</td>\n",
       "      <td>1</td>\n",
       "    </tr>\n",
       "  </tbody>\n",
       "</table>\n",
       "</div>"
      ],
      "text/plain": [
       "   CustomerID  Surname  NetworkScore Region  Gender   Age  Tenure  \\\n",
       "0        4971   Moreno          25.0  South  Female  26.0      11   \n",
       "1        2858     Bell          68.0  North  Female  60.0      17   \n",
       "2        5794    Baker          34.0  North    Male  28.0       7   \n",
       "3        3996  Jackson          13.0  South    Male  65.0       2   \n",
       "4        2680    Craig          50.0   East  Female  60.0      16   \n",
       "\n",
       "   MonthlyCharge  NumOfProducts  HasInternetService  IsActiveMember  \\\n",
       "0         134.20              1                   0             1.0   \n",
       "1          25.72              3                   1             1.0   \n",
       "2         131.03              2                   0             0.0   \n",
       "3          64.27              3                   0             1.0   \n",
       "4          41.26              3                   1             1.0   \n",
       "\n",
       "   EstimatedMonthlyUsage  Exited  \n",
       "0                    NaN       1  \n",
       "1                 533.40       0  \n",
       "2                 509.04       0  \n",
       "3                 246.48       0  \n",
       "4                 902.28       1  "
      ]
     },
     "execution_count": 111,
     "metadata": {},
     "output_type": "execute_result"
    }
   ],
   "source": [
    "train.head()"
   ]
  },
  {
   "cell_type": "code",
   "execution_count": 112,
   "id": "0b58d98f",
   "metadata": {},
   "outputs": [
    {
     "name": "stdout",
     "output_type": "stream",
     "text": [
      "<class 'pandas.core.frame.DataFrame'>\n",
      "RangeIndex: 4020 entries, 0 to 4019\n",
      "Data columns (total 13 columns):\n",
      " #   Column                 Non-Null Count  Dtype  \n",
      "---  ------                 --------------  -----  \n",
      " 0   CustomerID             4020 non-null   int64  \n",
      " 1   Surname                4020 non-null   object \n",
      " 2   NetworkScore           3821 non-null   float64\n",
      " 3   Region                 4020 non-null   object \n",
      " 4   Gender                 4020 non-null   object \n",
      " 5   Age                    3812 non-null   float64\n",
      " 6   Tenure                 4020 non-null   int64  \n",
      " 7   MonthlyCharge          4020 non-null   float64\n",
      " 8   NumOfProducts          4020 non-null   int64  \n",
      " 9   HasInternetService     4020 non-null   int64  \n",
      " 10  IsActiveMember         3822 non-null   float64\n",
      " 11  EstimatedMonthlyUsage  3823 non-null   float64\n",
      " 12  Exited                 4020 non-null   int64  \n",
      "dtypes: float64(5), int64(5), object(3)\n",
      "memory usage: 408.4+ KB\n"
     ]
    }
   ],
   "source": [
    "train.info()"
   ]
  },
  {
   "cell_type": "markdown",
   "id": "2dd6cdd8",
   "metadata": {},
   "source": [
    "## Data pre-processing"
   ]
  },
  {
   "cell_type": "markdown",
   "id": "3113b0b6",
   "metadata": {},
   "source": [
    "### Modify data types"
   ]
  },
  {
   "cell_type": "code",
   "execution_count": 113,
   "id": "e2fac0a7",
   "metadata": {},
   "outputs": [],
   "source": [
    "train['Age']=train['Age'].astype('Int64')"
   ]
  },
  {
   "cell_type": "code",
   "execution_count": 114,
   "id": "3e47cd10",
   "metadata": {},
   "outputs": [],
   "source": [
    "train['IsActiveMember']=train['IsActiveMember'].astype('Int64')"
   ]
  },
  {
   "cell_type": "code",
   "execution_count": 115,
   "id": "52b3e4d5",
   "metadata": {},
   "outputs": [
    {
     "name": "stdout",
     "output_type": "stream",
     "text": [
      "<class 'pandas.core.frame.DataFrame'>\n",
      "RangeIndex: 4020 entries, 0 to 4019\n",
      "Data columns (total 13 columns):\n",
      " #   Column                 Non-Null Count  Dtype  \n",
      "---  ------                 --------------  -----  \n",
      " 0   CustomerID             4020 non-null   int64  \n",
      " 1   Surname                4020 non-null   object \n",
      " 2   NetworkScore           3821 non-null   float64\n",
      " 3   Region                 4020 non-null   object \n",
      " 4   Gender                 4020 non-null   object \n",
      " 5   Age                    3812 non-null   Int64  \n",
      " 6   Tenure                 4020 non-null   int64  \n",
      " 7   MonthlyCharge          4020 non-null   float64\n",
      " 8   NumOfProducts          4020 non-null   int64  \n",
      " 9   HasInternetService     4020 non-null   int64  \n",
      " 10  IsActiveMember         3822 non-null   Int64  \n",
      " 11  EstimatedMonthlyUsage  3823 non-null   float64\n",
      " 12  Exited                 4020 non-null   int64  \n",
      "dtypes: Int64(2), float64(3), int64(5), object(3)\n",
      "memory usage: 416.3+ KB\n"
     ]
    }
   ],
   "source": [
    "train.info()"
   ]
  },
  {
   "cell_type": "markdown",
   "id": "19b74d93",
   "metadata": {},
   "source": [
    "### Handle missing values"
   ]
  },
  {
   "cell_type": "code",
   "execution_count": 116,
   "id": "80e325a3",
   "metadata": {},
   "outputs": [
    {
     "data": {
      "text/plain": [
       "CustomerID                 0\n",
       "Surname                    0\n",
       "NetworkScore             199\n",
       "Region                     0\n",
       "Gender                     0\n",
       "Age                      208\n",
       "Tenure                     0\n",
       "MonthlyCharge              0\n",
       "NumOfProducts              0\n",
       "HasInternetService         0\n",
       "IsActiveMember           198\n",
       "EstimatedMonthlyUsage    197\n",
       "Exited                     0\n",
       "dtype: int64"
      ]
     },
     "execution_count": 116,
     "metadata": {},
     "output_type": "execute_result"
    }
   ],
   "source": [
    "train.isnull().sum()"
   ]
  },
  {
   "cell_type": "code",
   "execution_count": 117,
   "id": "3a6a827f",
   "metadata": {},
   "outputs": [
    {
     "data": {
      "text/plain": [
       "count    3821.000000\n",
       "mean       51.172468\n",
       "std        28.975876\n",
       "min         1.000000\n",
       "25%        26.000000\n",
       "50%        52.000000\n",
       "75%        77.000000\n",
       "max       100.000000\n",
       "Name: NetworkScore, dtype: float64"
      ]
     },
     "execution_count": 117,
     "metadata": {},
     "output_type": "execute_result"
    }
   ],
   "source": [
    "train['NetworkScore'].describe()"
   ]
  },
  {
   "cell_type": "markdown",
   "id": "3541f2d7",
   "metadata": {},
   "source": [
    "##### Data is centered around 52 (median) which is close to mean so no skewness. It may have outliers so we will use median to fill NA"
   ]
  },
  {
   "cell_type": "code",
   "execution_count": 118,
   "id": "26254464",
   "metadata": {},
   "outputs": [],
   "source": [
    "train['NetworkScore'].fillna(train['NetworkScore'].median(),inplace=True)"
   ]
  },
  {
   "cell_type": "code",
   "execution_count": 119,
   "id": "ab6ae81f",
   "metadata": {},
   "outputs": [
    {
     "data": {
      "text/plain": [
       "count    3812.000000\n",
       "mean       43.961962\n",
       "std        15.300416\n",
       "min        18.000000\n",
       "25%        31.000000\n",
       "50%        44.000000\n",
       "75%        57.000000\n",
       "max        70.000000\n",
       "Name: Age, dtype: float64"
      ]
     },
     "execution_count": 119,
     "metadata": {},
     "output_type": "execute_result"
    }
   ],
   "source": [
    "train['Age'].describe()"
   ]
  },
  {
   "cell_type": "code",
   "execution_count": 120,
   "id": "5b18a5b0",
   "metadata": {},
   "outputs": [],
   "source": [
    "train['Age'].fillna(train['Age'].median(),inplace=True)"
   ]
  },
  {
   "cell_type": "code",
   "execution_count": 121,
   "id": "e7a45b77",
   "metadata": {},
   "outputs": [
    {
     "data": {
      "text/plain": [
       "0       1947\n",
       "1       1875\n",
       "<NA>     198\n",
       "Name: IsActiveMember, dtype: Int64"
      ]
     },
     "execution_count": 121,
     "metadata": {},
     "output_type": "execute_result"
    }
   ],
   "source": [
    "train['IsActiveMember'].value_counts(dropna=False)"
   ]
  },
  {
   "cell_type": "code",
   "execution_count": 122,
   "id": "894fc5a2",
   "metadata": {},
   "outputs": [],
   "source": [
    "train['IsActiveMember'].fillna(train['IsActiveMember'].mode()[0],inplace=True)"
   ]
  },
  {
   "cell_type": "code",
   "execution_count": 123,
   "id": "8cfa06ad",
   "metadata": {},
   "outputs": [
    {
     "data": {
      "text/plain": [
       "count    3823.000000\n",
       "mean      548.373380\n",
       "std       258.494824\n",
       "min       100.090000\n",
       "25%       329.485000\n",
       "50%       546.250000\n",
       "75%       772.725000\n",
       "max       999.820000\n",
       "Name: EstimatedMonthlyUsage, dtype: float64"
      ]
     },
     "execution_count": 123,
     "metadata": {},
     "output_type": "execute_result"
    }
   ],
   "source": [
    "train['EstimatedMonthlyUsage'].describe()"
   ]
  },
  {
   "cell_type": "code",
   "execution_count": 124,
   "id": "5472d8c3",
   "metadata": {},
   "outputs": [
    {
     "data": {
      "text/plain": [
       "<AxesSubplot: xlabel='EstimatedMonthlyUsage', ylabel='Count'>"
      ]
     },
     "execution_count": 124,
     "metadata": {},
     "output_type": "execute_result"
    },
    {
     "data": {
      "image/png": "[encoded data removed]",
      "text/plain": [
       "<Figure size 640x480 with 1 Axes>"
      ]
     },
     "metadata": {},
     "output_type": "display_data"
    }
   ],
   "source": [
    "sns.histplot(train['EstimatedMonthlyUsage'])"
   ]
  },
  {
   "cell_type": "code",
   "execution_count": 125,
   "id": "d4dd880d",
   "metadata": {},
   "outputs": [
    {
     "data": {
      "text/plain": [
       "0.005115293724699924"
      ]
     },
     "execution_count": 125,
     "metadata": {},
     "output_type": "execute_result"
    }
   ],
   "source": [
    "train['EstimatedMonthlyUsage'].skew()"
   ]
  },
  {
   "cell_type": "markdown",
   "id": "96e411f6",
   "metadata": {},
   "source": [
    "##### Skewness > 0: Right-skewed (tail to the right). Skewness < 0: Left-skewed (tail to the left). Here we dont have much skewness"
   ]
  },
  {
   "cell_type": "code",
   "execution_count": 126,
   "id": "a35bff7f",
   "metadata": {},
   "outputs": [],
   "source": [
    "train['EstimatedMonthlyUsage'].fillna(train['EstimatedMonthlyUsage'].mean(),inplace=True)"
   ]
  },
  {
   "cell_type": "code",
   "execution_count": 127,
   "id": "09cb86d8",
   "metadata": {},
   "outputs": [
    {
     "data": {
      "text/plain": [
       "CustomerID               0\n",
       "Surname                  0\n",
       "NetworkScore             0\n",
       "Region                   0\n",
       "Gender                   0\n",
       "Age                      0\n",
       "Tenure                   0\n",
       "MonthlyCharge            0\n",
       "NumOfProducts            0\n",
       "HasInternetService       0\n",
       "IsActiveMember           0\n",
       "EstimatedMonthlyUsage    0\n",
       "Exited                   0\n",
       "dtype: int64"
      ]
     },
     "execution_count": 127,
     "metadata": {},
     "output_type": "execute_result"
    }
   ],
   "source": [
    "train.isnull().sum()"
   ]
  },
  {
   "cell_type": "markdown",
   "id": "0a274fe1",
   "metadata": {},
   "source": [
    "### Drop extra columns"
   ]
  },
  {
   "cell_type": "code",
   "execution_count": 128,
   "id": "9d420729",
   "metadata": {},
   "outputs": [],
   "source": [
    "train_new=train.drop(columns=[['CustomerID','Surname']]).copy()"
   ]
  },
  {
   "cell_type": "code",
   "execution_count": 130,
   "id": "ed79c65f",
   "metadata": {},
   "outputs": [
    {
     "name": "stdout",
     "output_type": "stream",
     "text": [
      "<class 'pandas.core.frame.DataFrame'>\n",
      "RangeIndex: 4020 entries, 0 to 4019\n",
      "Data columns (total 11 columns):\n",
      " #   Column                 Non-Null Count  Dtype  \n",
      "---  ------                 --------------  -----  \n",
      " 0   NetworkScore           4020 non-null   float64\n",
      " 1   Region                 4020 non-null   object \n",
      " 2   Gender                 4020 non-null   object \n",
      " 3   Age                    4020 non-null   Int64  \n",
      " 4   Tenure                 4020 non-null   int64  \n",
      " 5   MonthlyCharge          4020 non-null   float64\n",
      " 6   NumOfProducts          4020 non-null   int64  \n",
      " 7   HasInternetService     4020 non-null   int64  \n",
      " 8   IsActiveMember         4020 non-null   Int64  \n",
      " 9   EstimatedMonthlyUsage  4020 non-null   float64\n",
      " 10  Exited                 4020 non-null   int64  \n",
      "dtypes: Int64(2), float64(3), int64(4), object(2)\n",
      "memory usage: 353.4+ KB\n"
     ]
    }
   ],
   "source": [
    "train_new.info()"
   ]
  },
  {
   "cell_type": "markdown",
   "id": "02326e31",
   "metadata": {},
   "source": [
    "### Data visualization"
   ]
  },
  {
   "cell_type": "code",
   "execution_count": 131,
   "id": "a21f2346",
   "metadata": {},
   "outputs": [
    {
     "data": {
      "image/png": "[encoded data removed]",
      "text/plain": [
       "<Figure size 1600x1600 with 9 Axes>"
      ]
     },
     "metadata": {},
     "output_type": "display_data"
    }
   ],
   "source": [
    "train_new[train_new.select_dtypes(include=['int64','float64']).columns].hist(figsize=(16,16))\n",
    "plt.show()"
   ]
  },
  {
   "cell_type": "code",
   "execution_count": 132,
   "id": "f25fb4f1",
   "metadata": {},
   "outputs": [
    {
     "data": {
      "image/png": "[encoded data removed]",
      "text/plain": [
       "<Figure size 300x300 with 1 Axes>"
      ]
     },
     "metadata": {},
     "output_type": "display_data"
    }
   ],
   "source": [
    "train_new['Region'].value_counts().plot(kind='bar',figsize=(3,3))\n",
    "plt.show()"
   ]
  },
  {
   "cell_type": "code",
   "execution_count": 133,
   "id": "28faa306",
   "metadata": {},
   "outputs": [
    {
     "data": {
      "image/png": "[encoded data removed]",
      "text/plain": [
       "<Figure size 300x300 with 1 Axes>"
      ]
     },
     "metadata": {},
     "output_type": "display_data"
    }
   ],
   "source": [
    "train_new['Gender'].value_counts().plot(kind='bar',figsize=(3,3))\n",
    "plt.show()"
   ]
  },
  {
   "cell_type": "markdown",
   "id": "ee03b8f5",
   "metadata": {},
   "source": [
    "### One-Hot Encoding"
   ]
  },
  {
   "cell_type": "code",
   "execution_count": 134,
   "id": "b94cd13d",
   "metadata": {},
   "outputs": [],
   "source": [
    "train_encoded=pd.get_dummies(train_new,columns=['Region','Gender'],drop_first=True)"
   ]
  },
  {
   "cell_type": "code",
   "execution_count": 135,
   "id": "1a47c535",
   "metadata": {},
   "outputs": [
    {
     "name": "stdout",
     "output_type": "stream",
     "text": [
      "<class 'pandas.core.frame.DataFrame'>\n",
      "RangeIndex: 4020 entries, 0 to 4019\n",
      "Data columns (total 14 columns):\n",
      " #   Column                 Non-Null Count  Dtype  \n",
      "---  ------                 --------------  -----  \n",
      " 0   NetworkScore           4020 non-null   float64\n",
      " 1   Age                    4020 non-null   Int64  \n",
      " 2   Tenure                 4020 non-null   int64  \n",
      " 3   MonthlyCharge          4020 non-null   float64\n",
      " 4   NumOfProducts          4020 non-null   int64  \n",
      " 5   HasInternetService     4020 non-null   int64  \n",
      " 6   IsActiveMember         4020 non-null   Int64  \n",
      " 7   EstimatedMonthlyUsage  4020 non-null   float64\n",
      " 8   Exited                 4020 non-null   int64  \n",
      " 9   Region_North           4020 non-null   uint8  \n",
      " 10  Region_South           4020 non-null   uint8  \n",
      " 11  Region_West            4020 non-null   uint8  \n",
      " 12  Gender_Male            4020 non-null   uint8  \n",
      " 13  Gender_Other           4020 non-null   uint8  \n",
      "dtypes: Int64(2), float64(3), int64(4), uint8(5)\n",
      "memory usage: 310.3 KB\n"
     ]
    }
   ],
   "source": [
    "train_encoded.info()"
   ]
  },
  {
   "cell_type": "markdown",
   "id": "759c6295",
   "metadata": {},
   "source": [
    "### Check collinearity"
   ]
  },
  {
   "cell_type": "code",
   "execution_count": 136,
   "id": "a677d638",
   "metadata": {},
   "outputs": [],
   "source": [
    "train_corr=train_encoded.corr().copy()"
   ]
  },
  {
   "cell_type": "code",
   "execution_count": 137,
   "id": "b44c5f71",
   "metadata": {},
   "outputs": [],
   "source": [
    "corr_pairs=train_corr.abs().unstack().sort_values(ascending=False)"
   ]
  },
  {
   "cell_type": "code",
   "execution_count": 138,
   "id": "f8598478",
   "metadata": {},
   "outputs": [
    {
     "data": {
      "text/plain": [
       "Series([], dtype: float64)"
      ]
     },
     "execution_count": 138,
     "metadata": {},
     "output_type": "execute_result"
    }
   ],
   "source": [
    "corr_pairs[(corr_pairs<1)& (corr_pairs>.8)]"
   ]
  },
  {
   "cell_type": "markdown",
   "id": "3102e1b0",
   "metadata": {},
   "source": [
    "#### No collinearity!!"
   ]
  },
  {
   "cell_type": "markdown",
   "id": "53afae6c",
   "metadata": {},
   "source": [
    "### Train-Test split"
   ]
  },
  {
   "cell_type": "code",
   "execution_count": 141,
   "id": "07af5f5d",
   "metadata": {},
   "outputs": [],
   "source": [
    "from sklearn.model_selection import train_test_split"
   ]
  },
  {
   "cell_type": "code",
   "execution_count": 144,
   "id": "7d842290",
   "metadata": {},
   "outputs": [],
   "source": [
    "X=train_encoded.drop('Exited',axis=1)\n",
    "Y=train_encoded['Exited']"
   ]
  },
  {
   "cell_type": "code",
   "execution_count": 147,
   "id": "f75f1071",
   "metadata": {},
   "outputs": [],
   "source": [
    "x_train,x_test,y_train,y_test=train_test_split(X,Y,test_size=.2,random_state=42)"
   ]
  },
  {
   "cell_type": "markdown",
   "id": "156434ab",
   "metadata": {},
   "source": [
    "### Cross-Validation"
   ]
  },
  {
   "cell_type": "code",
   "execution_count": 165,
   "id": "d3d82a60",
   "metadata": {},
   "outputs": [],
   "source": [
    "from sklearn.model_selection import cross_val_score\n",
    "from xgboost import XGBClassifier\n",
    "from sklearn.metrics import precision_score,make_scorer,recall_score,f1_score"
   ]
  },
  {
   "cell_type": "code",
   "execution_count": 156,
   "id": "b068c1df",
   "metadata": {},
   "outputs": [],
   "source": [
    "model=XGBClassifier(eval_metric='logloss', random_state=42)"
   ]
  },
  {
   "cell_type": "code",
   "execution_count": 157,
   "id": "092f2e78",
   "metadata": {},
   "outputs": [],
   "source": [
    "scores=cross_val_score(model,x_train,y_train,cv=5,scoring=make_scorer(precision_score))"
   ]
  },
  {
   "cell_type": "code",
   "execution_count": 159,
   "id": "45a0f672",
   "metadata": {},
   "outputs": [
    {
     "data": {
      "text/plain": [
       "0.6912140107554313"
      ]
     },
     "execution_count": 159,
     "metadata": {},
     "output_type": "execute_result"
    }
   ],
   "source": [
    "scores.mean()"
   ]
  },
  {
   "cell_type": "markdown",
   "id": "115f328b",
   "metadata": {},
   "source": [
    "##### Accuracy scores are consistent so proceeding with model training"
   ]
  },
  {
   "cell_type": "code",
   "execution_count": 160,
   "id": "dc0eb82b",
   "metadata": {
    "scrolled": true
   },
   "outputs": [
    {
     "data": {
      "text/html": [
       "<style>#sk-container-id-2 {color: black;background-color: white;}#sk-container-id-2 pre{padding: 0;}#sk-container-id-2 div.sk-toggleable {background-color: white;}#sk-container-id-2 label.sk-toggleable__label {cursor: pointer;display: block;width: 100%;margin-bottom: 0;padding: 0.3em;box-sizing: border-box;text-align: center;}#sk-container-id-2 label.sk-toggleable__label-arrow:before {content: \"▸\";float: left;margin-right: 0.25em;color: #696969;}#sk-container-id-2 label.sk-toggleable__label-arrow:hover:before {color: black;}#sk-container-id-2 div.sk-estimator:hover label.sk-toggleable__label-arrow:before {color: black;}#sk-container-id-2 div.sk-toggleable__content {max-height: 0;max-width: 0;overflow: hidden;text-align: left;background-color: #f0f8ff;}#sk-container-id-2 div.sk-toggleable__content pre {margin: 0.2em;color: black;border-radius: 0.25em;background-color: #f0f8ff;}#sk-container-id-2 input.sk-toggleable__control:checked~div.sk-toggleable__content {max-height: 200px;max-width: 100%;overflow: auto;}#sk-container-id-2 input.sk-toggleable__control:checked~label.sk-toggleable__label-arrow:before {content: \"▾\";}#sk-container-id-2 div.sk-estimator input.sk-toggleable__control:checked~label.sk-toggleable__label {background-color: #d4ebff;}#sk-container-id-2 div.sk-label input.sk-toggleable__control:checked~label.sk-toggleable__label {background-color: #d4ebff;}#sk-container-id-2 input.sk-hidden--visually {border: 0;clip: rect(1px 1px 1px 1px);clip: rect(1px, 1px, 1px, 1px);height: 1px;margin: -1px;overflow: hidden;padding: 0;position: absolute;width: 1px;}#sk-container-id-2 div.sk-estimator {font-family: monospace;background-color: #f0f8ff;border: 1px dotted black;border-radius: 0.25em;box-sizing: border-box;margin-bottom: 0.5em;}#sk-container-id-2 div.sk-estimator:hover {background-color: #d4ebff;}#sk-container-id-2 div.sk-parallel-item::after {content: \"\";width: 100%;border-bottom: 1px solid gray;flex-grow: 1;}#sk-container-id-2 div.sk-label:hover label.sk-toggleable__label {background-color: #d4ebff;}#sk-container-id-2 div.sk-serial::before {content: \"\";position: absolute;border-left: 1px solid gray;box-sizing: border-box;top: 0;bottom: 0;left: 50%;z-index: 0;}#sk-container-id-2 div.sk-serial {display: flex;flex-direction: column;align-items: center;background-color: white;padding-right: 0.2em;padding-left: 0.2em;position: relative;}#sk-container-id-2 div.sk-item {position: relative;z-index: 1;}#sk-container-id-2 div.sk-parallel {display: flex;align-items: stretch;justify-content: center;background-color: white;position: relative;}#sk-container-id-2 div.sk-item::before, #sk-container-id-2 div.sk-parallel-item::before {content: \"\";position: absolute;border-left: 1px solid gray;box-sizing: border-box;top: 0;bottom: 0;left: 50%;z-index: -1;}#sk-container-id-2 div.sk-parallel-item {display: flex;flex-direction: column;z-index: 1;position: relative;background-color: white;}#sk-container-id-2 div.sk-parallel-item:first-child::after {align-self: flex-end;width: 50%;}#sk-container-id-2 div.sk-parallel-item:last-child::after {align-self: flex-start;width: 50%;}#sk-container-id-2 div.sk-parallel-item:only-child::after {width: 0;}#sk-container-id-2 div.sk-dashed-wrapped {border: 1px dashed gray;margin: 0 0.4em 0.5em 0.4em;box-sizing: border-box;padding-bottom: 0.4em;background-color: white;}#sk-container-id-2 div.sk-label label {font-family: monospace;font-weight: bold;display: inline-block;line-height: 1.2em;}#sk-container-id-2 div.sk-label-container {text-align: center;}#sk-container-id-2 div.sk-container {/* jupyter's `normalize.less` sets `[hidden] { display: none; }` but bootstrap.min.css set `[hidden] { display: none !important; }` so we also need the `!important` here to be able to override the default hidden behavior on the sphinx rendered scikit-learn.org. See: https://github.com/scikit-learn/scikit-learn/issues/21755 */display: inline-block !important;position: relative;}#sk-container-id-2 div.sk-text-repr-fallback {display: none;}</style><div id=\"sk-container-id-2\" class=\"sk-top-container\"><div class=\"sk-text-repr-fallback\"><pre>XGBClassifier(base_score=None, booster=None, callbacks=None,\n",
       "              colsample_bylevel=None, colsample_bynode=None,\n",
       "              colsample_bytree=None, early_stopping_rounds=None,\n",
       "              enable_categorical=False, eval_metric=&#x27;logloss&#x27;,\n",
       "              feature_types=None, gamma=None, gpu_id=None, grow_policy=None,\n",
       "              importance_type=None, interaction_constraints=None,\n",
       "              learning_rate=None, max_bin=None, max_cat_threshold=None,\n",
       "              max_cat_to_onehot=None, max_delta_step=None, max_depth=None,\n",
       "              max_leaves=None, min_child_weight=None, missing=nan,\n",
       "              monotone_constraints=None, n_estimators=100, n_jobs=None,\n",
       "              num_parallel_tree=None, predictor=None, random_state=42, ...)</pre><b>In a Jupyter environment, please rerun this cell to show the HTML representation or trust the notebook. <br />On GitHub, the HTML representation is unable to render, please try loading this page with nbviewer.org.</b></div><div class=\"sk-container\" hidden><div class=\"sk-item\"><div class=\"sk-estimator sk-toggleable\"><input class=\"sk-toggleable__control sk-hidden--visually\" id=\"sk-estimator-id-2\" type=\"checkbox\" checked><label for=\"sk-estimator-id-2\" class=\"sk-toggleable__label sk-toggleable__label-arrow\">XGBClassifier</label><div class=\"sk-toggleable__content\"><pre>XGBClassifier(base_score=None, booster=None, callbacks=None,\n",
       "              colsample_bylevel=None, colsample_bynode=None,\n",
       "              colsample_bytree=None, early_stopping_rounds=None,\n",
       "              enable_categorical=False, eval_metric=&#x27;logloss&#x27;,\n",
       "              feature_types=None, gamma=None, gpu_id=None, grow_policy=None,\n",
       "              importance_type=None, interaction_constraints=None,\n",
       "              learning_rate=None, max_bin=None, max_cat_threshold=None,\n",
       "              max_cat_to_onehot=None, max_delta_step=None, max_depth=None,\n",
       "              max_leaves=None, min_child_weight=None, missing=nan,\n",
       "              monotone_constraints=None, n_estimators=100, n_jobs=None,\n",
       "              num_parallel_tree=None, predictor=None, random_state=42, ...)</pre></div></div></div></div></div>"
      ],
      "text/plain": [
       "XGBClassifier(base_score=None, booster=None, callbacks=None,\n",
       "              colsample_bylevel=None, colsample_bynode=None,\n",
       "              colsample_bytree=None, early_stopping_rounds=None,\n",
       "              enable_categorical=False, eval_metric='logloss',\n",
       "              feature_types=None, gamma=None, gpu_id=None, grow_policy=None,\n",
       "              importance_type=None, interaction_constraints=None,\n",
       "              learning_rate=None, max_bin=None, max_cat_threshold=None,\n",
       "              max_cat_to_onehot=None, max_delta_step=None, max_depth=None,\n",
       "              max_leaves=None, min_child_weight=None, missing=nan,\n",
       "              monotone_constraints=None, n_estimators=100, n_jobs=None,\n",
       "              num_parallel_tree=None, predictor=None, random_state=42, ...)"
      ]
     },
     "execution_count": 160,
     "metadata": {},
     "output_type": "execute_result"
    }
   ],
   "source": [
    "model.fit(x_train,y_train)"
   ]
  },
  {
   "cell_type": "code",
   "execution_count": 161,
   "id": "4ce18822",
   "metadata": {},
   "outputs": [],
   "source": [
    "y_pred=model.predict(x_test)"
   ]
  },
  {
   "cell_type": "code",
   "execution_count": 163,
   "id": "44d50221",
   "metadata": {},
   "outputs": [],
   "source": [
    "precision=precision_score(y_test,y_pred)"
   ]
  },
  {
   "cell_type": "code",
   "execution_count": 164,
   "id": "cb713337",
   "metadata": {},
   "outputs": [
    {
     "data": {
      "text/plain": [
       "0.6843373493975904"
      ]
     },
     "execution_count": 164,
     "metadata": {},
     "output_type": "execute_result"
    }
   ],
   "source": [
    "precision"
   ]
  },
  {
   "cell_type": "code",
   "execution_count": 166,
   "id": "17a9eefc",
   "metadata": {},
   "outputs": [],
   "source": [
    "recall=recall_score(y_test,y_pred)"
   ]
  },
  {
   "cell_type": "code",
   "execution_count": 167,
   "id": "b66db180",
   "metadata": {},
   "outputs": [
    {
     "data": {
      "text/plain": [
       "0.7473684210526316"
      ]
     },
     "execution_count": 167,
     "metadata": {},
     "output_type": "execute_result"
    }
   ],
   "source": [
    "recall"
   ]
  },
  {
   "cell_type": "code",
   "execution_count": 168,
   "id": "cd4da66d",
   "metadata": {},
   "outputs": [],
   "source": [
    "f1_score=f1_score(y_test,y_pred)"
   ]
  },
  {
   "cell_type": "code",
   "execution_count": 169,
   "id": "30cd009b",
   "metadata": {},
   "outputs": [
    {
     "data": {
      "text/plain": [
       "0.7144654088050314"
      ]
     },
     "execution_count": 169,
     "metadata": {},
     "output_type": "execute_result"
    }
   ],
   "source": [
    "f1_score"
   ]
  },
  {
   "cell_type": "markdown",
   "id": "0feb4ca5",
   "metadata": {},
   "source": [
    "### Prediction for test set"
   ]
  },
  {
   "cell_type": "markdown",
   "id": "e45be31c",
   "metadata": {},
   "source": [
    "##### We will apply the same pre-processing on test data for predictions"
   ]
  },
  {
   "cell_type": "code",
   "execution_count": 170,
   "id": "26870749",
   "metadata": {},
   "outputs": [],
   "source": [
    "test=pd.read_csv('test_data.csv')"
   ]
  },
  {
   "cell_type": "code",
   "execution_count": 171,
   "id": "183dee0f",
   "metadata": {},
   "outputs": [
    {
     "name": "stdout",
     "output_type": "stream",
     "text": [
      "<class 'pandas.core.frame.DataFrame'>\n",
      "RangeIndex: 1980 entries, 0 to 1979\n",
      "Data columns (total 13 columns):\n",
      " #   Column                 Non-Null Count  Dtype  \n",
      "---  ------                 --------------  -----  \n",
      " 0   CustomerID             1980 non-null   int64  \n",
      " 1   Surname                1980 non-null   object \n",
      " 2   NetworkScore           1879 non-null   float64\n",
      " 3   Region                 1980 non-null   object \n",
      " 4   Gender                 1980 non-null   object \n",
      " 5   Age                    1888 non-null   float64\n",
      " 6   Tenure                 1980 non-null   int64  \n",
      " 7   MonthlyCharge          1980 non-null   float64\n",
      " 8   NumOfProducts          1980 non-null   int64  \n",
      " 9   HasInternetService     1980 non-null   int64  \n",
      " 10  IsActiveMember         1878 non-null   float64\n",
      " 11  EstimatedMonthlyUsage  1877 non-null   float64\n",
      " 12  Exited                 0 non-null      float64\n",
      "dtypes: float64(6), int64(4), object(3)\n",
      "memory usage: 201.2+ KB\n"
     ]
    }
   ],
   "source": [
    "test.info()"
   ]
  },
  {
   "cell_type": "code",
   "execution_count": 172,
   "id": "4325ae40",
   "metadata": {},
   "outputs": [],
   "source": [
    "test['Age']=test['Age'].astype('Int64')\n",
    "test['IsActiveMember']=test['IsActiveMember'].astype('Int64')"
   ]
  },
  {
   "cell_type": "code",
   "execution_count": 173,
   "id": "8f634171",
   "metadata": {},
   "outputs": [
    {
     "data": {
      "text/plain": [
       "CustomerID                  0\n",
       "Surname                     0\n",
       "NetworkScore              101\n",
       "Region                      0\n",
       "Gender                      0\n",
       "Age                        92\n",
       "Tenure                      0\n",
       "MonthlyCharge               0\n",
       "NumOfProducts               0\n",
       "HasInternetService          0\n",
       "IsActiveMember            102\n",
       "EstimatedMonthlyUsage     103\n",
       "Exited                   1980\n",
       "dtype: int64"
      ]
     },
     "execution_count": 173,
     "metadata": {},
     "output_type": "execute_result"
    }
   ],
   "source": [
    "test.isnull().sum()"
   ]
  },
  {
   "cell_type": "code",
   "execution_count": 174,
   "id": "06c00b20",
   "metadata": {},
   "outputs": [],
   "source": [
    "test['NetworkScore'].fillna(test['NetworkScore'].median(),inplace=True)"
   ]
  },
  {
   "cell_type": "code",
   "execution_count": 175,
   "id": "d638a9fc",
   "metadata": {},
   "outputs": [],
   "source": [
    "test['Age'].fillna(test['Age'].median(),inplace=True)"
   ]
  },
  {
   "cell_type": "code",
   "execution_count": 176,
   "id": "94f27739",
   "metadata": {},
   "outputs": [],
   "source": [
    "test['IsActiveMember'].fillna(test['IsActiveMember'].mode()[0],inplace=True)"
   ]
  },
  {
   "cell_type": "code",
   "execution_count": 177,
   "id": "11570121",
   "metadata": {},
   "outputs": [],
   "source": [
    "test['EstimatedMonthlyUsage'].fillna(test['EstimatedMonthlyUsage'].mean(),inplace=True)"
   ]
  },
  {
   "cell_type": "code",
   "execution_count": 178,
   "id": "46bfc350",
   "metadata": {},
   "outputs": [
    {
     "data": {
      "text/plain": [
       "CustomerID                  0\n",
       "Surname                     0\n",
       "NetworkScore                0\n",
       "Region                      0\n",
       "Gender                      0\n",
       "Age                         0\n",
       "Tenure                      0\n",
       "MonthlyCharge               0\n",
       "NumOfProducts               0\n",
       "HasInternetService          0\n",
       "IsActiveMember              0\n",
       "EstimatedMonthlyUsage       0\n",
       "Exited                   1980\n",
       "dtype: int64"
      ]
     },
     "execution_count": 178,
     "metadata": {},
     "output_type": "execute_result"
    }
   ],
   "source": [
    "test.isnull().sum()"
   ]
  },
  {
   "cell_type": "code",
   "execution_count": 206,
   "id": "2c8c9fd5",
   "metadata": {},
   "outputs": [],
   "source": [
    "test_new=test.drop(columns=['CustomerID','Surname','Exited']).copy()"
   ]
  },
  {
   "cell_type": "code",
   "execution_count": 207,
   "id": "bc80f65a",
   "metadata": {},
   "outputs": [],
   "source": [
    "test_encoded=pd.get_dummies(test_new,columns=['Region','Gender'],drop_first=True)"
   ]
  },
  {
   "cell_type": "code",
   "execution_count": 208,
   "id": "42542bc2",
   "metadata": {},
   "outputs": [
    {
     "name": "stdout",
     "output_type": "stream",
     "text": [
      "<class 'pandas.core.frame.DataFrame'>\n",
      "RangeIndex: 1980 entries, 0 to 1979\n",
      "Data columns (total 13 columns):\n",
      " #   Column                 Non-Null Count  Dtype  \n",
      "---  ------                 --------------  -----  \n",
      " 0   NetworkScore           1980 non-null   float64\n",
      " 1   Age                    1980 non-null   Int64  \n",
      " 2   Tenure                 1980 non-null   int64  \n",
      " 3   MonthlyCharge          1980 non-null   float64\n",
      " 4   NumOfProducts          1980 non-null   int64  \n",
      " 5   HasInternetService     1980 non-null   int64  \n",
      " 6   IsActiveMember         1980 non-null   Int64  \n",
      " 7   EstimatedMonthlyUsage  1980 non-null   float64\n",
      " 8   Region_North           1980 non-null   uint8  \n",
      " 9   Region_South           1980 non-null   uint8  \n",
      " 10  Region_West            1980 non-null   uint8  \n",
      " 11  Gender_Male            1980 non-null   uint8  \n",
      " 12  Gender_Other           1980 non-null   uint8  \n",
      "dtypes: Int64(2), float64(3), int64(3), uint8(5)\n",
      "memory usage: 137.4 KB\n"
     ]
    }
   ],
   "source": [
    "test_encoded.info()"
   ]
  },
  {
   "cell_type": "code",
   "execution_count": 209,
   "id": "be85d76d",
   "metadata": {},
   "outputs": [],
   "source": [
    "predictions=model.predict(test_encoded)"
   ]
  },
  {
   "cell_type": "code",
   "execution_count": 210,
   "id": "083a3b0e",
   "metadata": {},
   "outputs": [
    {
     "data": {
      "text/plain": [
       "array([1, 0, 0, ..., 1, 1, 0])"
      ]
     },
     "execution_count": 210,
     "metadata": {},
     "output_type": "execute_result"
    }
   ],
   "source": [
    "predictions"
   ]
  },
  {
   "cell_type": "code",
   "execution_count": 211,
   "id": "acb67548",
   "metadata": {},
   "outputs": [],
   "source": [
    "submission=test[['CustomerID']].copy()"
   ]
  },
  {
   "cell_type": "code",
   "execution_count": 212,
   "id": "0b0063a4",
   "metadata": {},
   "outputs": [],
   "source": [
    "submission['Exited']=predictions"
   ]
  },
  {
   "cell_type": "code",
   "execution_count": 213,
   "id": "eb00dd71",
   "metadata": {},
   "outputs": [
    {
     "data": {
      "text/html": [
       "<div>\n",
       "<style scoped>\n",
       "    .dataframe tbody tr th:only-of-type {\n",
       "        vertical-align: middle;\n",
       "    }\n",
       "\n",
       "    .dataframe tbody tr th {\n",
       "        vertical-align: top;\n",
       "    }\n",
       "\n",
       "    .dataframe thead th {\n",
       "        text-align: right;\n",
       "    }\n",
       "</style>\n",
       "<table border=\"1\" class=\"dataframe\">\n",
       "  <thead>\n",
       "    <tr style=\"text-align: right;\">\n",
       "      <th></th>\n",
       "      <th>CustomerID</th>\n",
       "      <th>Exited</th>\n",
       "    </tr>\n",
       "  </thead>\n",
       "  <tbody>\n",
       "    <tr>\n",
       "      <th>0</th>\n",
       "      <td>5081</td>\n",
       "      <td>1</td>\n",
       "    </tr>\n",
       "    <tr>\n",
       "      <th>1</th>\n",
       "      <td>3273</td>\n",
       "      <td>0</td>\n",
       "    </tr>\n",
       "    <tr>\n",
       "      <th>2</th>\n",
       "      <td>3565</td>\n",
       "      <td>0</td>\n",
       "    </tr>\n",
       "    <tr>\n",
       "      <th>3</th>\n",
       "      <td>2735</td>\n",
       "      <td>1</td>\n",
       "    </tr>\n",
       "    <tr>\n",
       "      <th>4</th>\n",
       "      <td>2163</td>\n",
       "      <td>1</td>\n",
       "    </tr>\n",
       "    <tr>\n",
       "      <th>...</th>\n",
       "      <td>...</td>\n",
       "      <td>...</td>\n",
       "    </tr>\n",
       "    <tr>\n",
       "      <th>1975</th>\n",
       "      <td>2588</td>\n",
       "      <td>1</td>\n",
       "    </tr>\n",
       "    <tr>\n",
       "      <th>1976</th>\n",
       "      <td>3324</td>\n",
       "      <td>0</td>\n",
       "    </tr>\n",
       "    <tr>\n",
       "      <th>1977</th>\n",
       "      <td>1901</td>\n",
       "      <td>1</td>\n",
       "    </tr>\n",
       "    <tr>\n",
       "      <th>1978</th>\n",
       "      <td>4629</td>\n",
       "      <td>1</td>\n",
       "    </tr>\n",
       "    <tr>\n",
       "      <th>1979</th>\n",
       "      <td>732</td>\n",
       "      <td>0</td>\n",
       "    </tr>\n",
       "  </tbody>\n",
       "</table>\n",
       "<p>1980 rows × 2 columns</p>\n",
       "</div>"
      ],
      "text/plain": [
       "      CustomerID  Exited\n",
       "0           5081       1\n",
       "1           3273       0\n",
       "2           3565       0\n",
       "3           2735       1\n",
       "4           2163       1\n",
       "...          ...     ...\n",
       "1975        2588       1\n",
       "1976        3324       0\n",
       "1977        1901       1\n",
       "1978        4629       1\n",
       "1979         732       0\n",
       "\n",
       "[1980 rows x 2 columns]"
      ]
     },
     "execution_count": 213,
     "metadata": {},
     "output_type": "execute_result"
    }
   ],
   "source": [
    "submission"
   ]
  },
  {
   "cell_type": "code",
   "execution_count": 214,
   "id": "19220db8",
   "metadata": {},
   "outputs": [],
   "source": [
    "submission.to_csv('submission.csv',index=False)"
   ]
  },
  {
   "cell_type": "code",
   "execution_count": null,
   "id": "118f4d5b",
   "metadata": {},
   "outputs": [],
   "source": []
  }
 ],
 "metadata": {
  "kernelspec": {
   "display_name": "Python 3 (ipykernel)",
   "language": "python",
   "name": "python3"
  },
  "language_info": {
   "codemirror_mode": {
    "name": "ipython",
    "version": 3
   },
   "file_extension": ".py",
   "mimetype": "text/x-python",
   "name": "python",
   "nbconvert_exporter": "python",
   "pygments_lexer": "ipython3",
   "version": "3.10.7"
  }
 },
 "nbformat": 4,
 "nbformat_minor": 5
}
